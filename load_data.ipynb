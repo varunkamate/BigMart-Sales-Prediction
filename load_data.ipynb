{
 "cells": [
  {
   "cell_type": "code",
   "execution_count": 1,
   "id": "b233d0fb-b959-42ed-9d82-61a453560833",
   "metadata": {},
   "outputs": [
    {
     "name": "stdout",
     "output_type": "stream",
     "text": [
      "Defaulting to user installation because normal site-packages is not writeable\n",
      "Requirement already satisfied: pymysql in c:\\users\\varun\\appdata\\roaming\\python\\python312\\site-packages (1.1.1)\n"
     ]
    }
   ],
   "source": [
    "#loading the data to my sql server and create the database----->which contain 3 files(tables)\n",
    "!pip install pymysql"
   ]
  },
  {
   "cell_type": "code",
   "execution_count": 4,
   "id": "5a99a196-9149-428e-8ab4-256658d35173",
   "metadata": {},
   "outputs": [
    {
     "name": "stdout",
     "output_type": "stream",
     "text": [
      "✅ BigMart database created and all tables loaded successfully!\n"
     ]
    }
   ],
   "source": [
    "import pymysql\n",
    "import pandas as pd\n",
    "\n",
    "# === 1. MySQL Connection Setup ===\n",
    "connection = pymysql.connect(\n",
    "    host='localhost',\n",
    "    user='root',\n",
    "    password='varun@07',   # Change if needed\n",
    "    autocommit=True\n",
    ")\n",
    "\n",
    "cursor = connection.cursor()\n",
    "\n",
    "# === 2. Create \"BigMark\" Database ===\n",
    "cursor.execute(\"CREATE DATABASE IF NOT EXISTS BigMart\")\n",
    "cursor.execute(\"USE BigMart\")\n",
    "\n",
    "# === 3. Load the 3 XML Files ===\n",
    "df_item = pd.read_xml('df_item.xml')\n",
    "df_outlet = pd.read_xml('df_outlet.xml')\n",
    "df_sales = pd.read_xml('df_sales.xml')\n",
    "\n",
    "# === 4. Create Tables Automatically ===\n",
    "def create_table_from_df(df, table_name):\n",
    "    cols = []\n",
    "    for col in df.columns:\n",
    "        dtype = df[col].dtype\n",
    "        if 'int' in str(dtype):\n",
    "            sql_type = 'INT'\n",
    "        elif 'float' in str(dtype):\n",
    "            sql_type = 'FLOAT'\n",
    "        else:\n",
    "            sql_type = 'VARCHAR(255)'\n",
    "        cols.append(f\"`{col}` {sql_type}\")\n",
    "    \n",
    "    columns_sql = \", \".join(cols)\n",
    "    create_sql = f\"CREATE TABLE IF NOT EXISTS `{table_name}` ({columns_sql})\"\n",
    "    cursor.execute(create_sql)\n",
    "\n",
    "# Create tables for each DataFrame\n",
    "create_table_from_df(df_item, 'item_info')\n",
    "create_table_from_df(df_outlet, 'outlet_info')\n",
    "create_table_from_df(df_sales, 'sales_info')\n",
    "\n",
    "# === 5. Insert Data into Tables (use executemany for speed) ===\n",
    "def insert_data(df, table_name):\n",
    "    df = df.where(pd.notnull(df), None)  # Replace NaN with None\n",
    "    cols = \",\".join([f\"`{col}`\" for col in df.columns])\n",
    "    placeholders = \",\".join([\"%s\"] * len(df.columns))\n",
    "    insert_sql = f\"INSERT INTO `{table_name}` ({cols}) VALUES ({placeholders})\"\n",
    "    data = [tuple(row) for row in df.itertuples(index=False, name=None)]\n",
    "    cursor.executemany(insert_sql, data)\n",
    "\n",
    "\n",
    "# Insert data\n",
    "insert_data(df_item, 'item_info')\n",
    "insert_data(df_outlet, 'outlet_info')\n",
    "insert_data(df_sales, 'sales_info')\n",
    "\n",
    "# === 6. Done ===\n",
    "print(\"✅ BigMart database created and all tables loaded successfully!\")\n",
    "\n",
    "# Close connection\n",
    "cursor.close()\n",
    "connection.close()"
   ]
  },
  {
   "cell_type": "code",
   "execution_count": null,
   "id": "889ba3bc-501a-432d-a5e0-897e784a5bd1",
   "metadata": {},
   "outputs": [],
   "source": []
  }
 ],
 "metadata": {
  "kernelspec": {
   "display_name": "Python 3 (ipykernel)",
   "language": "python",
   "name": "python3"
  },
  "language_info": {
   "codemirror_mode": {
    "name": "ipython",
    "version": 3
   },
   "file_extension": ".py",
   "mimetype": "text/x-python",
   "name": "python",
   "nbconvert_exporter": "python",
   "pygments_lexer": "ipython3",
   "version": "3.12.4"
  }
 },
 "nbformat": 4,
 "nbformat_minor": 5
}
